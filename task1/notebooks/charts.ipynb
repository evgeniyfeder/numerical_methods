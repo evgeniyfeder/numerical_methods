{
 "cells": [
  {
   "cell_type": "code",
   "execution_count": null,
   "metadata": {},
   "outputs": [],
   "source": [
    "import sys; sys.path.append('../src/')\n",
    "from typing import List, Callable\n",
    "from methods.common import SystemConfig, Point\n",
    "from methods.euler import solve_euler_explicit, solve_euler_implicit\n",
    "from methods.adams import solve_adams_4_explicit, solve_adams_4_implicit\n",
    "from methods.runge_kutta4 import solve_rk4\n",
    "\n",
    "import plotly.express as px\n",
    "import plotly.graph_objects as go\n",
    "\n",
    "\n",
    "methods = {\n",
    "    'euler_explicit': solve_euler_explicit,\n",
    "    'euler_implicit': solve_euler_implicit,\n",
    "    'adams_4_explicit': solve_adams_4_explicit,\n",
    "    'adams_4_implicit': solve_adams_4_implicit,\n",
    "    'rk4': solve_rk4,\n",
    "}"
   ]
  },
  {
   "cell_type": "code",
   "execution_count": null,
   "metadata": {},
   "outputs": [],
   "source": [
    "import pandas as pd\n",
    "import attr\n",
    "\n",
    "\n",
    "def compile_data(r: float, x0=13, y0=13, z0=33, t0=0):\n",
    "    dfs = []\n",
    "    for name, method in methods.items():\n",
    "        raw_data: List[Point] = method(x0=x0, y0=y0, z0=z0, t0=t0, config=SystemConfig(r=r))\n",
    "        df = pd.DataFrame(attr.asdict(p) for p in raw_data)\n",
    "        df['method'] = name\n",
    "        dfs.append(df)\n",
    "    return pd.concat(dfs)\n",
    "\n",
    " "
   ]
  },
  {
   "cell_type": "code",
   "execution_count": null,
   "metadata": {
    "scrolled": false
   },
   "outputs": [],
   "source": [
    "for r in [0.5, 5, 10, 20, 30]:\n",
    "    px.line(compile_data(r), x='t', y='x', color='method', title=f'r={r}').show()"
   ]
  },
  {
   "cell_type": "code",
   "execution_count": null,
   "metadata": {},
   "outputs": [],
   "source": [
    "for r in [0.5, 5, 10, 20, 30]:\n",
    "    px.line(compile_data(r), x='t', y='y', color='method', title=f'r={r}').show()"
   ]
  },
  {
   "cell_type": "code",
   "execution_count": null,
   "metadata": {},
   "outputs": [],
   "source": [
    "for r in [0.5, 5, 10, 20, 30]:\n",
    "    px.line(compile_data(r), x='t', y='z', color='method', title=f'r={r}').show()"
   ]
  },
  {
   "cell_type": "code",
   "execution_count": null,
   "metadata": {},
   "outputs": [],
   "source": [
    "for r in [0.5, 10, 30]:\n",
    "    px.line_3d(compile_data(r), x='x', y='y', z='z', color='method', title=f'r={r}').show()"
   ]
  }
 ],
 "metadata": {
  "kernelspec": {
   "display_name": "Python 3",
   "language": "python",
   "name": "python3"
  },
  "language_info": {
   "codemirror_mode": {
    "name": "ipython",
    "version": 3
   },
   "file_extension": ".py",
   "mimetype": "text/x-python",
   "name": "python",
   "nbconvert_exporter": "python",
   "pygments_lexer": "ipython3",
   "version": "3.7.4"
  }
 },
 "nbformat": 4,
 "nbformat_minor": 2
}
