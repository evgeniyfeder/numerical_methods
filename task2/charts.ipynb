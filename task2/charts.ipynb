{
 "cells": [
  {
   "cell_type": "code",
   "execution_count": null,
   "metadata": {},
   "outputs": [],
   "source": [
    "import plotly.express as px\n",
    "import plotly.graph_objects as go\n",
    "\n",
    "import pandas as pd\n",
    "import numpy as np\n",
    "\n",
    "import sys; sys.path.append('src')\n",
    "from methods.solve import solve\n",
    "from methods.explicit import ExplicitAgainst, ExplicitDown, ExplicitLeapfrog\n",
    "from starts import signum_start, linear_start, random_start\n",
    "from eq_config import EqConfig\n"
   ]
  },
  {
   "cell_type": "code",
   "execution_count": null,
   "metadata": {},
   "outputs": [],
   "source": [
    "config = EqConfig(\n",
    "    u=0.3,\n",
    "    kappa=0.02,\n",
    "    dx=0.1,\n",
    "    dt=0.1,\n",
    "    a = 0, b = 1,\n",
    "    num_iter=100,\n",
    ")\n",
    "config, config.s, config.r, config.num_iter, config.num_points"
   ]
  },
  {
   "cell_type": "code",
   "execution_count": null,
   "metadata": {},
   "outputs": [],
   "source": [
    "# s + 2 * r <= 1\n",
    "start = linear_start(config, min=1, max=0)\n",
    "df = solve(start, ExplicitDown.next_ts, config, freq=2)\n"
   ]
  },
  {
   "cell_type": "code",
   "execution_count": null,
   "metadata": {},
   "outputs": [],
   "source": [
    "px.line(df, x='x', y='T', animation_frame='time')"
   ]
  }
 ],
 "metadata": {
  "kernelspec": {
   "display_name": "Python 3",
   "language": "python",
   "name": "python3"
  },
  "language_info": {
   "codemirror_mode": {
    "name": "ipython",
    "version": 3
   },
   "file_extension": ".py",
   "mimetype": "text/x-python",
   "name": "python",
   "nbconvert_exporter": "python",
   "pygments_lexer": "ipython3",
   "version": "3.7.5"
  }
 },
 "nbformat": 4,
 "nbformat_minor": 2
}
