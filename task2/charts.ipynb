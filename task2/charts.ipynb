{
 "cells": [
  {
   "cell_type": "code",
   "execution_count": null,
   "metadata": {},
   "outputs": [],
   "source": [
    "import plotly.express as px\n",
    "import plotly.graph_objects as go\n",
    "\n",
    "import pandas as pd\n",
    "import numpy as np\n",
    "\n",
    "import sys; sys.path.append('src')\n",
    "from methods.solve import solve\n",
    "from methods.implicit import ImplicitAgainst\n",
    "from eq_config import EqConfig\n"
   ]
  },
  {
   "cell_type": "code",
   "execution_count": null,
   "metadata": {},
   "outputs": [],
   "source": [
    "config = EqConfig(\n",
    "    v=0.01,\n",
    "    kappa=0.5,\n",
    "    dx=0.1,\n",
    "    dt=0.01,\n",
    "    a = 0, b = 10,\n",
    "    num_iter=100,\n",
    ")\n",
    "config, config.r, config.s, config.num_iter, config.num_points"
   ]
  },
  {
   "cell_type": "code",
   "execution_count": null,
   "metadata": {},
   "outputs": [],
   "source": [
    "start = np.zeros(config.num_points, dtype=np.float64)\n",
    "for i in range(config.num_points // 2):\n",
    "    start[i] = 1."
   ]
  },
  {
   "cell_type": "code",
   "execution_count": null,
   "metadata": {},
   "outputs": [],
   "source": [
    "df = solve(start, ImplicitAgainst.next_ts, config)"
   ]
  },
  {
   "cell_type": "code",
   "execution_count": null,
   "metadata": {},
   "outputs": [],
   "source": [
    "# df = pd.DataFrame({\"x\": x + t, \"T\": 0 if x < 50 else 1, \"time\": t}\n",
    "#                   for x in range(0, 100)\n",
    "#                   for t in range(0, 100))\n",
    "px.line(df, x='x', y='T', animation_frame='time')"
   ]
  }
 ],
 "metadata": {
  "kernelspec": {
   "display_name": "Python 3",
   "language": "python",
   "name": "python3"
  },
  "language_info": {
   "codemirror_mode": {
    "name": "ipython",
    "version": 3
   },
   "file_extension": ".py",
   "mimetype": "text/x-python",
   "name": "python",
   "nbconvert_exporter": "python",
   "pygments_lexer": "ipython3",
   "version": "3.7.5"
  }
 },
 "nbformat": 4,
 "nbformat_minor": 2
}
