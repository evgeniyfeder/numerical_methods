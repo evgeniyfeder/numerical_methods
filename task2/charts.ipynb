{
 "cells": [
  {
   "cell_type": "code",
   "execution_count": null,
   "metadata": {
    "scrolled": true
   },
   "outputs": [],
   "source": [
    "import plotly.express as px\n",
    "import plotly.graph_objects as go\n",
    "\n",
    "import pandas as pd\n",
    "import numpy as np\n",
    "\n",
    "import sys; sys.path.append('src')\n",
    "from methods.solve import solve\n",
    "from methods.leapfrog import solve_leapfrog\n",
    "from methods.explicit import ExplicitAgainst, ExplicitDown\n",
    "from methods.implicit import ImplicitAgainst, ImplicitDown\n",
    "from starts import signum_start, linear_start, random_start, angle_start\n",
    "from eq_config import EqConfig\n"
   ]
  },
  {
   "cell_type": "markdown",
   "metadata": {},
   "source": [
    "# Уравнение переноса\n",
    "Пусть $\\chi = 0$, тогда \n",
    "$$\\frac{\\partial T}{\\partial t} \n",
    "+ u \\frac{\\partial T}{\\partial x}\n",
    "= 0$$"
   ]
  },
  {
   "cell_type": "markdown",
   "metadata": {},
   "source": [
    "## Явный по потоку"
   ]
  },
  {
   "cell_type": "code",
   "execution_count": null,
   "metadata": {
    "scrolled": true
   },
   "outputs": [],
   "source": [
    "config = EqConfig(\n",
    "    u=0.3,\n",
    "    kappa=0.0,\n",
    "    dx=0.01,\n",
    "    dt=0.01,\n",
    "    a = 0, b = 1,\n",
    "    num_iter=100,\n",
    ")\n",
    "print(config)\n",
    "print(f's={config.s}, r={config.r}')\n",
    "start = linear_start(config, min=1, max=0)\n",
    "\n",
    "df = solve(start, ExplicitDown.next_ts, config, freq=2)\n",
    "px.scatter(df, x='x', y='T', animation_frame='time')"
   ]
  },
  {
   "cell_type": "markdown",
   "metadata": {},
   "source": [
    "## Явный против потока"
   ]
  },
  {
   "cell_type": "code",
   "execution_count": null,
   "metadata": {
    "scrolled": true
   },
   "outputs": [],
   "source": [
    "config = EqConfig(\n",
    "    u=1.2,\n",
    "    kappa=0.0,\n",
    "    dx=0.01,\n",
    "    dt=0.01,\n",
    "    a = 0, b = 1,\n",
    "    num_iter=100,\n",
    ")\n",
    "print(config)\n",
    "print(f's={config.s}, r={config.r}')\n",
    "start = linear_start(config, min=1, max=0)\n",
    "\n",
    "df = solve(start, ExplicitAgainst.next_ts, config, freq=2)\n",
    "px.scatter(df, x='x', y='T', animation_frame='time')"
   ]
  },
  {
   "cell_type": "markdown",
   "metadata": {},
   "source": [
    "## Неявный по потоку"
   ]
  },
  {
   "cell_type": "code",
   "execution_count": null,
   "metadata": {
    "scrolled": true
   },
   "outputs": [],
   "source": [
    "config = EqConfig(\n",
    "    u=1,\n",
    "    kappa=0.0,\n",
    "    dx=0.01,\n",
    "    dt=0.01,\n",
    "    a = 0, b = 1,\n",
    "    num_iter=100,\n",
    ")\n",
    "print(config)\n",
    "print(f's={config.s}, r={config.r}')\n",
    "start = linear_start(config, min=1, max=0)\n",
    "\n",
    "df = solve(start, ImplicitDown.next_ts, config, freq=2)\n",
    "px.scatter(df, x='x', y='T', animation_frame='time')"
   ]
  },
  {
   "cell_type": "markdown",
   "metadata": {},
   "source": [
    "## Неявный против потока"
   ]
  },
  {
   "cell_type": "code",
   "execution_count": null,
   "metadata": {
    "scrolled": true
   },
   "outputs": [],
   "source": [
    "config = EqConfig(\n",
    "    u=1.2,\n",
    "    kappa=0.0,\n",
    "    dx=0.01,\n",
    "    dt=0.01,\n",
    "    a = 0, b = 1,\n",
    "    num_iter=100,\n",
    ")\n",
    "print(config)\n",
    "print(f's={config.s}, r={config.r}')\n",
    "start = linear_start(config, min=1, max=0)\n",
    "\n",
    "df = solve(start, ImplicitAgainst.next_ts, config, freq=2)\n",
    "px.scatter(df, x='x', y='T', animation_frame='time')"
   ]
  },
  {
   "cell_type": "markdown",
   "metadata": {},
   "source": [
    "# Уравнение теплопроводности\n",
    "\n",
    "Пусть $u=0$, тогда\n",
    "$$\\frac{\\partial T}{\\partial t}\n",
    "- \\chi \\frac{\\partial^2 T}{\\partial x^2}\n",
    "= 0$$"
   ]
  },
  {
   "cell_type": "markdown",
   "metadata": {},
   "source": [
    "## Явный"
   ]
  },
  {
   "cell_type": "code",
   "execution_count": null,
   "metadata": {
    "scrolled": true
   },
   "outputs": [],
   "source": [
    "config = EqConfig(\n",
    "    u=0,\n",
    "    kappa=0.007,\n",
    "    dx=0.01,\n",
    "    dt=0.01,\n",
    "    a = 0, b = 1,\n",
    "    num_iter=100,\n",
    ")\n",
    "print(config)\n",
    "print(f's={config.s}, r={config.r}')\n",
    "start = linear_start(config, min=1, max=0)\n",
    "\n",
    "df = solve(start, ExplicitDown.next_ts, config, freq=1) \n",
    "px.scatter(df, x='x', y='T', animation_frame='time')"
   ]
  },
  {
   "cell_type": "markdown",
   "metadata": {},
   "source": [
    "## Неявный"
   ]
  },
  {
   "cell_type": "code",
   "execution_count": null,
   "metadata": {
    "scrolled": true
   },
   "outputs": [],
   "source": [
    "config = EqConfig(\n",
    "    u=0,\n",
    "    kappa=0.07,\n",
    "    dx=0.01,\n",
    "    dt=0.01,\n",
    "    a = 0, b = 1,\n",
    "    num_iter=100,\n",
    ")\n",
    "print(config)\n",
    "print(f's={config.s}, r={config.r}')\n",
    "start = linear_start(config, min=1, max=0)\n",
    "\n",
    "df = solve(start, ImplicitDown.next_ts, config, freq=2)\n",
    "px.scatter(df, x='x', y='T', animation_frame='time')"
   ]
  },
  {
   "cell_type": "markdown",
   "metadata": {},
   "source": [
    "# Общий случай\n",
    "\n",
    "$u > 0$ and $\\chi > 0$, so\n",
    "\n",
    "$$\\frac{\\partial T}{\\partial t} \n",
    "+ u \\frac{\\partial T}{\\partial x}\n",
    "- \\chi \\frac{\\partial^2 T}{\\partial x^2}\n",
    "= 0$$"
   ]
  },
  {
   "cell_type": "markdown",
   "metadata": {},
   "source": [
    "## Неявный против потока\n"
   ]
  },
  {
   "cell_type": "code",
   "execution_count": null,
   "metadata": {
    "scrolled": true
   },
   "outputs": [],
   "source": [
    "config = EqConfig(\n",
    "    u=0.3,\n",
    "    kappa=0.02,\n",
    "    dx=0.1,\n",
    "    dt=0.1,\n",
    "    a = 0, b = 2,\n",
    "    num_iter=100,\n",
    ")\n",
    "print(config)\n",
    "print(f's={config.s}, r={config.r}')\n",
    "start = linear_start(config, min=1, max=0)\n",
    "\n",
    "df = solve(start, ImplicitAgainst.next_ts, config, freq=2)\n",
    "px.line(df, x='x', y='T', animation_frame='time')"
   ]
  },
  {
   "cell_type": "markdown",
   "metadata": {},
   "source": [
    "## Неявный по потоку"
   ]
  },
  {
   "cell_type": "code",
   "execution_count": null,
   "metadata": {
    "scrolled": true
   },
   "outputs": [],
   "source": [
    "config = EqConfig(\n",
    "    u=0.3,\n",
    "    kappa=0.02,\n",
    "    dx=0.1,\n",
    "    dt=0.1,\n",
    "    a = 0, b = 2,\n",
    "    num_iter=100,\n",
    ")\n",
    "print(config)\n",
    "print(f's={config.s}, r={config.r}')\n",
    "start = angle_start(config, min=0, max=1)\n",
    "\n",
    "df = solve(start, ImplicitDown.next_ts, config, freq=2)\n",
    "px.line(df, x='x', y='T', animation_frame='time')"
   ]
  },
  {
   "cell_type": "markdown",
   "metadata": {},
   "source": [
    "## Чехарда"
   ]
  },
  {
   "cell_type": "code",
   "execution_count": null,
   "metadata": {
    "scrolled": true
   },
   "outputs": [],
   "source": [
    "config = EqConfig(\n",
    "    u=1,\n",
    "    kappa=0,\n",
    "    dx=0.01,\n",
    "    dt=0.01,\n",
    "    a = 0, b = 2,\n",
    "    num_iter=1000,\n",
    ")\n",
    "print(config)\n",
    "print(f's={config.s}, r={config.r}')\n",
    "start = angle_start(config, min=0, max=1)\n",
    "df = solve_leapfrog(start, config, freq=5)\n",
    "px.line(df, x='x', y='T', animation_frame='time')"
   ]
  }
 ],
 "metadata": {
  "kernelspec": {
   "display_name": "Python 3",
   "language": "python",
   "name": "python3"
  },
  "language_info": {
   "codemirror_mode": {
    "name": "ipython",
    "version": 3
   },
   "file_extension": ".py",
   "mimetype": "text/x-python",
   "name": "python",
   "nbconvert_exporter": "python",
   "pygments_lexer": "ipython3",
   "version": "3.7.5"
  }
 },
 "nbformat": 4,
 "nbformat_minor": 2
}
