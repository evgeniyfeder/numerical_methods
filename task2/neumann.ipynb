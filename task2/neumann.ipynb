{
 "cells": [
  {
   "cell_type": "markdown",
   "metadata": {},
   "source": [
    "Дано:\n",
    "\n",
    "$$\\frac{\\partial T}{\\partial t} \n",
    "+ u \\frac{\\partial T}{\\partial x}\n",
    "- \\chi \\frac{\\partial^2 T}{\\partial x^2}\n",
    "= 0$$\n",
    "where $$T(t, x); x \\in [a, b]$$"
   ]
  },
  {
   "cell_type": "markdown",
   "metadata": {},
   "source": [
    "Явная разностная схема против потока:\n",
    "$$\\frac{T^{n+1}_{k} - T^{n}_{k}}{\\Delta t}\n",
    "+u\\frac{T^{n}_{k} - T^{n}_{k-1}}{\\Delta x}\n",
    "-\\chi \\frac{T^{n}_{k-1} - 2T^{n}_{k} + T^{n}_{k+1}}{\\Delta x^2 } \n",
    "= 0$$\n",
    "where\n",
    "$$T(t, x) = \\sum_{m=0}^{\\infty} A_m e^{\\lambda(\\alpha_m) t} e^{i \\alpha_m x}$$\n",
    "$$T_k^0(x) = \\sum_{m=0}^{k} A_m e^{i \\alpha_m k}\n",
    ",~ \\alpha_m = \\frac{2\\pi m \\Delta x}{b - a}$$\n",
    "$$T_k^n = \\sum_{m=0}^{k} A_n \\lambda^m (\\alpha_m) e^{i \\alpha_m k}$$"
   ]
  },
  {
   "cell_type": "markdown",
   "metadata": {},
   "source": [
    "Критерий устойчивости:\n",
    "$$\\forall \\alpha . |\\lambda(\\alpha)| \\le 1$$"
   ]
  },
  {
   "cell_type": "markdown",
   "metadata": {},
   "source": [
    "Перепишем систему:\n",
    "$$\\lambda^{n+1} e^{i\\alpha k}\n",
    "   - \\lambda^{n} e^{i\\alpha k}\n",
    "   + u \\frac{\\Delta t}{\\Delta x} (\n",
    "     \\lambda^{n} e^{i\\alpha k}\n",
    "     - \\lambda^{n+1} e^{i\\alpha k} e^{-i \\alpha}\n",
    "     )\n",
    "   - \\chi \\frac{\\Delta t}{\\Delta x^2} (\n",
    "     \\lambda^n e^{i\\alpha k} e^{-i\\alpha}\n",
    "     - 2 \\lambda^n e^{i\\alpha k}\n",
    "     + \\lambda^n e^{i\\alpha k} e^{-i\\alpha}\n",
    "     )\n",
    "   = 0\n",
    "$$"
   ]
  },
  {
   "cell_type": "markdown",
   "metadata": {},
   "source": [
    "Тогда:\n",
    "$$\\lambda =\n",
    "   1 - s + s(cos \\alpha - i sin \\alpha)\n",
    "   + r (2 cos \\alpha - 2)\n",
    "   = 0\n",
    "$$\n",
    "\n",
    "where\n",
    "$$s = u \\frac{\\Delta t}{\\Delta x}$$\n",
    "$$r = \\chi \\frac{\\Delta t}{\\Delta x^2}$$"
   ]
  },
  {
   "cell_type": "markdown",
   "metadata": {},
   "source": [
    "Достаточность:\n",
    "$$|\\lambda|^2 = \\lambda \\overline{\\lambda} < 0 $$\n",
    "$$ 4(1-s-2r)(s+2r)sin^2 \\frac{\\alpha}{2} + 4r(r+s)sin^2 \\alpha > 0$$\n",
    "$$ \\underline{r(r + s) sin^2 \\alpha} \n",
    " > (s + 2r - 1)\\underline{(s + 2r)sin^2 \\frac{\\alpha}{2}} $$\n",
    "\n",
    "$$\\forall \\alpha. r(r + s) sin^2 \\alpha \\ge 0\n",
    "        , (s + 2r)sin^2 \\frac{\\alpha}{2} \\ge 0$$\n",
    "$$s + 2r \\leq 1 \\Rightarrow \\forall \\alpha. |\\lambda|^2 < 1$$"
   ]
  },
  {
   "cell_type": "markdown",
   "metadata": {},
   "source": [
    "Необходимость:\n",
    "\n",
    "Пусть $s + 2r > 1$.\n",
    "Тогда при $\\alpha = \\pi$ неравенство нарушается:\n",
    "$$0 \\ge (s+2r-1)(s + 2r)$$"
   ]
  },
  {
   "cell_type": "code",
   "execution_count": 4,
   "metadata": {},
   "outputs": [
    {
     "data": {
      "image/png": "[encoded data removed]",
      "text/plain": [
       "<Figure size 432x288 with 1 Axes>"
      ]
     },
     "metadata": {
      "needs_background": "light"
     },
     "output_type": "display_data"
    }
   ],
   "source": [
    "import matplotlib.pyplot as plt\n",
    "import numpy as np\n",
    "\n",
    "r = [0, 0.3, 0.5]\n",
    "s = list(map(lambda r: 1 - 2*r, r))\n",
    "plt.xlabel(\"r\")\n",
    "plt.ylabel(\"s\")\n",
    "plt.fill_between(r, s)\n",
    "plt.show()"
   ]
  }
 ],
 "metadata": {
  "kernelspec": {
   "display_name": "Python 3",
   "language": "python",
   "name": "python3"
  },
  "language_info": {
   "codemirror_mode": {
    "name": "ipython",
    "version": 3
   },
   "file_extension": ".py",
   "mimetype": "text/x-python",
   "name": "python",
   "nbconvert_exporter": "python",
   "pygments_lexer": "ipython3",
   "version": "3.7.5"
  }
 },
 "nbformat": 4,
 "nbformat_minor": 2
}
