{
 "cells": [
  {
   "cell_type": "code",
   "execution_count": null,
   "metadata": {},
   "outputs": [],
   "source": [
    "import plotly.express as px\n",
    "import plotly.graph_objects as go\n",
    "\n",
    "import pandas as pd\n",
    "import numpy as np\n",
    "\n",
    "import sys; sys.path.append('src')\n",
    "from methods.solve import solve_iter, Frame\n",
    "from eq_system import SystemConfig\n",
    "from methods.explicit import ExplicitMethodImpl\n",
    "from methods.implicit import WImplicitMethod, MagicWImplicitMethod\n",
    "import itertools\n",
    "\n",
    "import matplotlib.pyplot as plt\n",
    "from typing import Iterator\n",
    "\n",
    "from IPython.display import display\n",
    "%matplotlib notebook"
   ]
  },
  {
   "cell_type": "code",
   "execution_count": null,
   "metadata": {},
   "outputs": [],
   "source": [
    "import time\n",
    "\n",
    "def draw_online(frames: Iterator[Frame], config: SystemConfig):\n",
    "    fig, (axX, axT) = plt.subplots(2, 1, sharex=True)\n",
    "    fig.show()\n",
    "    fig.canvas.draw()\n",
    "    xs = config.xs\n",
    "    for frame in frames:\n",
    "        axX.clear()\n",
    "        axT.clear()\n",
    "        axX.plot(xs, frame.Xs)\n",
    "        axT.plot(xs, frame.Ts)\n",
    "        axX.set_xlabel(f'time = {frame.time}')\n",
    "        axX.set_ylabel('X')\n",
    "        axT.set_ylabel('T')\n",
    "        fig.canvas.draw()\n",
    "        \n",
    "def draw_offline(frames: Iterator[Frame], config: SystemConfig):\n",
    "    df1 = pd.DataFrame()\n",
    "    df2 = pd.DataFrame()\n",
    "    for frame in frames:\n",
    "        df1 = df1.append(pd.DataFrame(dict(time=frame.time, type='X', val=frame.Xs)))\n",
    "        df2 = df2.append(pd.DataFrame(dict(time=frame.time, type='T', val=frame.Ts)))\n",
    "    px.scatter(df1, y='val', animation_frame='time', title='X').show()\n",
    "    px.scatter(df2, y='val', animation_frame='time', title='T').show()\n",
    "    \n",
    "def draw_serial(frames: Iterator[Frame], config: SystemConfig):\n",
    "    fig, (axX, axT, axW) = plt.subplots(3, 1, sharex=True)\n",
    "#     fig.show()\n",
    "#     fig.canvas.draw()\n",
    "    xs = config.xs\n",
    "    for frame in frames:\n",
    "#         axX.clear()\n",
    "#         axT.clear()\n",
    "        axX.plot(xs, frame.Xs)\n",
    "        axT.plot(xs, frame.Ts)\n",
    "        axW.plot(xs, frame.Ws)\n",
    "        axX.set_xlabel(f'time = {frame.time}')\n",
    "        axX.set_ylabel('X')\n",
    "        axT.set_ylabel('T')\n",
    "        axW.set_ylabel('W')\n",
    "        fig.canvas.draw()\n"
   ]
  },
  {
   "cell_type": "markdown",
   "metadata": {},
   "source": [
    "# Регулярный"
   ]
  },
  {
   "cell_type": "code",
   "execution_count": null,
   "metadata": {
    "scrolled": false
   },
   "outputs": [],
   "source": [
    "config = SystemConfig(\n",
    "    dt=0.01, \n",
    "    dz=0.001, \n",
    "    max_z=0.02, \n",
    "    alpha=1,\n",
    "    D=8e-8\n",
    ")\n",
    "# begin_xs = [0, 1, 1, 1, ..]\n",
    "begin_xs = np.array(list(itertools.repeat(1, config.num_points)), dtype=np.float64)\n",
    "begin_xs[0] = 0\n",
    "# begin_tx = [Tm, T0, T0, T0, ..]\n",
    "begin_ts  = np.array(list(itertools.repeat(config.T_0, config.num_points)),dtype=np.float64)\n",
    "begin_ts[0] = config.T_m\n",
    "print(config)\n",
    "\n",
    "# draw_online(\n",
    "#     frames=solve_iter(begin_ts, begin_xs, WImplicitMethod, config, freq=300, num_iter=300000),\n",
    "#     config=config\n",
    "# )\n",
    "\n",
    "draw_serial(\n",
    "    frames=solve_iter(begin_ts, begin_xs, WImplicitMethod, config, freq=500, num_iter=30000),\n",
    "    config=config\n",
    ")\n",
    "\n",
    "\n",
    "# draw_offline(\n",
    "#     frames=solve_iter(begin_ts, begin_xs, WImplicitMethod, config, freq=300, num_iter=60000),\n",
    "#     config=config\n",
    "# )"
   ]
  },
  {
   "cell_type": "markdown",
   "metadata": {},
   "source": [
    "# Периодический режим"
   ]
  },
  {
   "cell_type": "code",
   "execution_count": null,
   "metadata": {},
   "outputs": [],
   "source": [
    "config = SystemConfig(\n",
    "    dt=0.01, \n",
    "    dz=0.0001, \n",
    "    max_z=0.025, \n",
    "    alpha=1,\n",
    "    D=8e-12\n",
    ")\n",
    "# begin_xs = [0, 1, 1, 1, ..]\n",
    "begin_xs = np.array(list(itertools.repeat(1, config.num_points)), dtype=np.float64)\n",
    "begin_xs[0] = 0\n",
    "# begin_tx = [Tm, T0, T0, T0, ..]\n",
    "begin_ts  = np.array(list(itertools.repeat(config.T_0, config.num_points)),dtype=np.float64)\n",
    "begin_ts[0] = config.T_m\n",
    "print(config)\n",
    "\n",
    "# draw_online(\n",
    "#     frames=solve_iter(begin_ts, begin_xs, WImplicitMethod, config, freq=300, num_iter=30000),\n",
    "#     config=config\n",
    "# )\n",
    "\n",
    "draw_serial(\n",
    "    frames=solve_iter(begin_ts, begin_xs, WImplicitMethod, config, freq=100, num_iter=40000),\n",
    "    config=config\n",
    ")\n"
   ]
  },
  {
   "cell_type": "markdown",
   "metadata": {},
   "source": [
    "# 2-Периодический режим"
   ]
  },
  {
   "cell_type": "code",
   "execution_count": null,
   "metadata": {
    "scrolled": false
   },
   "outputs": [],
   "source": [
    "config = SystemConfig(\n",
    "    dt=0.015, \n",
    "    dz=0.0001, \n",
    "    max_z=0.025, \n",
    "    alpha=1,\n",
    "    D=8e-12,\n",
    "    E=8.5e4,\n",
    "    K=4.6e6,\n",
    ")\n",
    "# begin_xs = [0, 1, 1, 1, ..]\n",
    "begin_xs = np.array(list(itertools.repeat(1, config.num_points)), dtype=np.float64)\n",
    "begin_xs[0] = 0\n",
    "# begin_tx = [Tm, T0, T0, T0, ..]\n",
    "begin_ts  = np.array(list(itertools.repeat(config.T_0, config.num_points)),dtype=np.float64)\n",
    "begin_ts[0] = config.T_m\n",
    "print(config)\n",
    "\n",
    "draw_serial(\n",
    "    frames=solve_iter(begin_ts, begin_xs, WImplicitMethod, config, freq=100, num_iter=30000),\n",
    "    config=config\n",
    ")"
   ]
  },
  {
   "cell_type": "markdown",
   "metadata": {},
   "source": [
    "# Хаос"
   ]
  },
  {
   "cell_type": "code",
   "execution_count": null,
   "metadata": {},
   "outputs": [],
   "source": [
    "config = SystemConfig(\n",
    "    dt=0.015, \n",
    "    dz=0.0001, \n",
    "    max_z=0.025, \n",
    "    alpha=3,\n",
    "    D=7e-12,\n",
    "    E=11.4e4,\n",
    "    K=7.2e10,\n",
    ")\n",
    "# begin_xs = [0, 1, 1, 1, ..]\n",
    "begin_xs = np.array(list(itertools.repeat(1, config.num_points)), dtype=np.float64)\n",
    "begin_xs[0] = 0\n",
    "# begin_tx = [Tm, T0, T0, T0, ..]\n",
    "begin_ts  = np.array(list(itertools.repeat(config.T_0, config.num_points)),dtype=np.float64)\n",
    "begin_ts[0] = config.T_m\n",
    "print(config)\n",
    "\n",
    "draw_serial(\n",
    "    frames=solve_iter(begin_ts, begin_xs, WImplicitMethod, config, freq=50, num_iter=30000),\n",
    "    config=config\n",
    ")"
   ]
  },
  {
   "cell_type": "code",
   "execution_count": null,
   "metadata": {
    "scrolled": false
   },
   "outputs": [],
   "source": [
    "config = SystemConfig(\n",
    "    dt=0.01, \n",
    "    dz=0.001, \n",
    "    max_z=0.05, \n",
    "    alpha=1,\n",
    "    D=8e-12,\n",
    "    E=1e5,\n",
    "    K=1e8,\n",
    ")\n",
    "# begin_xs = [0, 1, 1, 1, ..]\n",
    "begin_xs = np.array(list(itertools.repeat(1, config.num_points)), dtype=np.float64)\n",
    "begin_xs[0] = 0\n",
    "# begin_tx = [Tm, T0, T0, T0, ..]\n",
    "begin_ts  = np.array(list(itertools.repeat(config.T_0, config.num_points)),dtype=np.float64)\n",
    "begin_ts[0] = config.T_m\n",
    "print(config)\n",
    "\n",
    "draw_serial(\n",
    "    frames=solve_iter(begin_ts, begin_xs, WImplicitMethod, config, freq=200, num_iter=30000),\n",
    "    config=config\n",
    ")"
   ]
  },
  {
   "cell_type": "markdown",
   "metadata": {},
   "source": [
    "# TEST"
   ]
  },
  {
   "cell_type": "code",
   "execution_count": null,
   "metadata": {
    "scrolled": false
   },
   "outputs": [],
   "source": [
    "config = SystemConfig(\n",
    "    dt=0.015, \n",
    "    dz=0.001, \n",
    "    max_z=0.05, \n",
    "    alpha=1,\n",
    "    D=8e-12,\n",
    "    E=80010,\n",
    "    K=1.60321e7,\n",
    ")\n",
    "# begin_xs = [0, 1, 1, 1, ..]\n",
    "begin_xs = np.array(list(itertools.repeat(1, config.num_points)), dtype=np.float64)\n",
    "begin_xs[0] = 0\n",
    "# begin_tx = [Tm, T0, T0, T0, ..]\n",
    "begin_ts  = np.array(list(itertools.repeat(config.T_0, config.num_points)),dtype=np.float64)\n",
    "begin_ts[0] = config.T_m\n",
    "print(config)\n",
    "\n",
    "draw_serial(\n",
    "    frames=solve_iter(begin_ts, begin_xs, WImplicitMethod, config, freq=400, num_iter=30000),\n",
    "    config=config\n",
    ")"
   ]
  },
  {
   "cell_type": "code",
   "execution_count": null,
   "metadata": {
    "scrolled": false
   },
   "outputs": [],
   "source": [
    "config = SystemConfig(\n",
    "    dt=0.015, \n",
    "    dz=0.0001, \n",
    "    max_z=0.06, \n",
    "    alpha=1.5,\n",
    "    D=8e-12,\n",
    "    E=8.5e4,\n",
    "    K=4.6e6,\n",
    ")\n",
    "# begin_xs = [0, 1, 1, 1, ..]\n",
    "begin_xs = np.array(list(itertools.repeat(1, config.num_points)), dtype=np.float64)\n",
    "begin_xs[0] = 0\n",
    "# begin_tx = [Tm, T0, T0, T0, ..]\n",
    "begin_ts  = np.array(list(itertools.repeat(config.T_0, config.num_points)),dtype=np.float64)\n",
    "begin_ts[0] = config.T_m\n",
    "print(config)\n",
    "\n",
    "draw_serial(\n",
    "    frames=solve_iter(begin_ts, begin_xs, WImplicitMethod, config, freq=100, num_iter=100000),\n",
    "    config=config\n",
    ")"
   ]
  },
  {
   "cell_type": "code",
   "execution_count": null,
   "metadata": {},
   "outputs": [],
   "source": [
    "config = SystemConfig(\n",
    "    dt=0.015, \n",
    "    dz=0.0001, \n",
    "    max_z=0.025, \n",
    "    alpha=1,\n",
    "    D=8e-12,\n",
    "    E=8.5e4,\n",
    "    K=4.6e6,\n",
    ")\n",
    "# begin_xs = [0, 1, 1, 1, ..]\n",
    "begin_xs = np.array(list(itertools.repeat(1, config.num_points)), dtype=np.float64)\n",
    "begin_xs[0] = 0\n",
    "# begin_tx = [Tm, T0, T0, T0, ..]\n",
    "begin_ts  = np.array(list(itertools.repeat(config.T_0, config.num_points)),dtype=np.float64)\n",
    "begin_ts[0] = config.T_m\n",
    "print(config)\n",
    "\n",
    "draw_serial(\n",
    "    frames=solve_iter(begin_ts, begin_xs, WImplicitMethod, config, freq=100, num_iter=30000),\n",
    "    config=config\n",
    ")"
   ]
  }
 ],
 "metadata": {
  "kernelspec": {
   "display_name": "Python 3",
   "language": "python",
   "name": "python3"
  },
  "language_info": {
   "codemirror_mode": {
    "name": "ipython",
    "version": 3
   },
   "file_extension": ".py",
   "mimetype": "text/x-python",
   "name": "python",
   "nbconvert_exporter": "python",
   "pygments_lexer": "ipython3",
   "version": "3.7.5"
  },
  "pycharm": {
   "stem_cell": {
    "cell_type": "raw",
    "metadata": {
     "collapsed": false
    },
    "source": []
   }
  }
 },
 "nbformat": 4,
 "nbformat_minor": 1
}
