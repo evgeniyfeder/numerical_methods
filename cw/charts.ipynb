{
 "cells": [
  {
   "cell_type": "code",
   "execution_count": null,
   "metadata": {},
   "outputs": [],
   "source": [
    "import plotly.express as px\n",
    "import plotly.graph_objects as go\n",
    "\n",
    "import pandas as pd\n",
    "import numpy as np\n",
    "\n",
    "import sys; sys.path.append('src')\n",
    "from methods.solve import solve\n",
    "from eq_system import SystemConfig\n",
    "from methods.explicit import ExplicitMethodImpl\n",
    "from methods.implicit import WImplicitMethod, MagicWImplicitMethod\n",
    "import itertools"
   ]
  },
  {
   "cell_type": "code",
   "execution_count": null,
   "metadata": {},
   "outputs": [],
   "source": [
    "config = SystemConfig(\n",
    "    dt=0.01, \n",
    "    dz=0.0001, \n",
    "    max_z=0.01, \n",
    "    alpha=1,\n",
    "    num_iter=int(10000)\n",
    ")\n",
    "print(config)"
   ]
  },
  {
   "cell_type": "code",
   "execution_count": null,
   "metadata": {},
   "outputs": [],
   "source": [
    "# begin_xs = [0, 1, 1, 1, ..]\n",
    "begin_xs = np.array(list(itertools.repeat(1, config.num_points)))\n",
    "begin_xs[0] = 0\n",
    "# begin_tx = [Tm, T0, T0, T0, ..]\n",
    "begin_ts  = np.array(list(itertools.repeat(config.T_0, config.num_points)))\n",
    "begin_ts[0] = config.T_m"
   ]
  },
  {
   "cell_type": "code",
   "execution_count": null,
   "metadata": {},
   "outputs": [],
   "source": [
    "df = solve(\n",
    "    begin_ts=begin_ts, begin_xs=begin_xs,\n",
    "    method=WImplicitMethod.next_xs_ts, config=config,\n",
    "    freq=100\n",
    ")"
   ]
  },
  {
   "cell_type": "code",
   "execution_count": null,
   "metadata": {
    "scrolled": true
   },
   "outputs": [],
   "source": [
    "# def draw(df: pd.DataFrame):\n",
    "px.scatter(df, x='x', y='X', animation_frame='time')"
   ]
  },
  {
   "cell_type": "code",
   "execution_count": null,
   "metadata": {
    "pycharm": {
     "name": "#%%\n"
    }
   },
   "outputs": [],
   "source": []
  },
  {
   "cell_type": "code",
   "execution_count": null,
   "metadata": {},
   "outputs": [],
   "source": [
    "df"
   ]
  },
  {
   "cell_type": "code",
   "execution_count": null,
   "metadata": {},
   "outputs": [],
   "source": [
    "df"
   ]
  },
  {
   "cell_type": "code",
   "execution_count": null,
   "metadata": {},
   "outputs": [],
   "source": [
    "px.scatter(df, x='x', y='T', animation_frame='time')"
   ]
  },
  {
   "cell_type": "code",
   "execution_count": null,
   "metadata": {
    "pycharm": {
     "name": "#%%\n"
    }
   },
   "outputs": [],
   "source": []
  },
  {
   "cell_type": "code",
   "execution_count": null,
   "metadata": {},
   "outputs": [],
   "source": []
  }
 ],
 "metadata": {
  "kernelspec": {
   "display_name": "Python 3",
   "language": "python",
   "name": "python3"
  },
  "language_info": {
   "codemirror_mode": {
    "name": "ipython",
    "version": 3
   },
   "file_extension": ".py",
   "mimetype": "text/x-python",
   "name": "python",
   "nbconvert_exporter": "python",
   "pygments_lexer": "ipython3",
   "version": "3.7.5"
  },
  "pycharm": {
   "stem_cell": {
    "cell_type": "raw",
    "metadata": {
     "collapsed": false
    },
    "source": []
   }
  }
 },
 "nbformat": 4,
 "nbformat_minor": 1
}
